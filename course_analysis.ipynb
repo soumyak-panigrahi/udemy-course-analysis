{
 "cells": [
  {
   "attachments": {},
   "cell_type": "markdown",
   "metadata": {},
   "source": [
    "# Udemy Course Analysis"
   ]
  },
  {
   "attachments": {},
   "cell_type": "markdown",
   "metadata": {},
   "source": [
    "**Datset used [Udemy Datset](https://www.kaggle.com/andrewmvd/udemy-courses)**"
   ]
  },
  {
   "cell_type": "markdown",
   "metadata": {},
   "source": [
    "### Importing the necessary packages"
   ]
  },
  {
   "cell_type": "code",
   "execution_count": null,
   "metadata": {},
   "outputs": [],
   "source": [
    "import numpy as np\n",
    "import pandas as pd\n",
    "import matplotlib.pyplot as  plt\n",
    "import seaborn as sns"
   ]
  },
  {
   "cell_type": "markdown",
   "metadata": {},
   "source": [
    "### Reading the dataset"
   ]
  },
  {
   "cell_type": "code",
   "execution_count": null,
   "metadata": {},
   "outputs": [],
   "source": [
    "df_udemy = pd.read_csv(r'./udemy_courses.csv',index_col = 0)"
   ]
  },
  {
   "cell_type": "code",
   "execution_count": null,
   "metadata": {},
   "outputs": [],
   "source": [
    "df_udemy.describe()"
   ]
  },
  {
   "cell_type": "code",
   "execution_count": null,
   "metadata": {},
   "outputs": [],
   "source": [
    "df_udemy.shape"
   ]
  },
  {
   "cell_type": "code",
   "execution_count": null,
   "metadata": {},
   "outputs": [],
   "source": [
    "df_udemy.columns"
   ]
  },
  {
   "cell_type": "code",
   "execution_count": null,
   "metadata": {},
   "outputs": [],
   "source": [
    "df_udemy.head()"
   ]
  },
  {
   "cell_type": "markdown",
   "metadata": {},
   "source": [
    "### Data cleaning and preprocessing"
   ]
  },
  {
   "cell_type": "code",
   "execution_count": null,
   "metadata": {},
   "outputs": [],
   "source": [
    "df_udemy.isnull().sum()"
   ]
  },
  {
   "cell_type": "code",
   "execution_count": null,
   "metadata": {},
   "outputs": [],
   "source": [
    "df_udemy.select_dtypes('object').columns"
   ]
  },
  {
   "cell_type": "code",
   "execution_count": null,
   "metadata": {},
   "outputs": [],
   "source": [
    "df_udemy.drop(index=96698,axis=0,inplace=True)"
   ]
  },
  {
   "cell_type": "code",
   "execution_count": null,
   "metadata": {},
   "outputs": [],
   "source": [
    "plt.barh(df_udemy['subject'],df_udemy['num_subscribers'])\n",
    "plt.xlabel('Number of subscribers')\n",
    "plt.ylabel('Subject')\n",
    "plt.show()"
   ]
  },
  {
   "cell_type": "markdown",
   "metadata": {},
   "source": [
    "## 1. Which course overall has the maximum number of enrollments?"
   ]
  },
  {
   "cell_type": "code",
   "execution_count": null,
   "metadata": {},
   "outputs": [],
   "source": [
    "overall_max_enrolled_course = df_udemy['num_subscribers'].max()\n",
    "overall_max_enrolled_course"
   ]
  },
  {
   "cell_type": "code",
   "execution_count": null,
   "metadata": {},
   "outputs": [],
   "source": [
    "df_udemy[df_udemy['num_subscribers']==overall_max_enrolled_course]"
   ]
  },
  {
   "cell_type": "markdown",
   "metadata": {},
   "source": [
    "##### From the analysis, it is clear that \"Learn HTML5 Programming from Scratch\" is the highly enrolled course with 268932 subscribers in Udemy based on these 4 domains."
   ]
  },
  {
   "cell_type": "markdown",
   "metadata": {},
   "source": [
    "## 2. Which courses overall has the minimum subscribers/ minimum number of enrollment?"
   ]
  },
  {
   "cell_type": "code",
   "execution_count": null,
   "metadata": {},
   "outputs": [],
   "source": [
    "overall_min_enrolled_courses = df_udemy['num_subscribers'].min()\n",
    "df_min = df_udemy[df_udemy['num_subscribers']==overall_min_enrolled_courses]\n",
    "df_min"
   ]
  },
  {
   "cell_type": "code",
   "execution_count": null,
   "metadata": {},
   "outputs": [],
   "source": [
    "df_min.shape"
   ]
  },
  {
   "cell_type": "code",
   "execution_count": null,
   "metadata": {},
   "outputs": [],
   "source": [
    "plt.plot(df_min['subject'],df_min['num_subscribers'])\n",
    "plt.ylabel('Number of subscribers')\n",
    "plt.xlabel('Subject')\n",
    "plt.show()"
   ]
  },
  {
   "cell_type": "markdown",
   "metadata": {},
   "source": [
    "##### It is clear that 70 of 3683 courses are not enrolled by any number of subscribers. The number of subscribers is 0 in the case."
   ]
  },
  {
   "cell_type": "markdown",
   "metadata": {},
   "source": [
    "## 3. Which of the paid courses is maximum enrolled?"
   ]
  },
  {
   "cell_type": "code",
   "execution_count": null,
   "metadata": {},
   "outputs": [],
   "source": [
    "features_paid = (df_udemy['is_paid'] == 'True') | (df_udemy['is_paid']=='TRUE')\n",
    "df_paid = df_udemy[features_paid]\n",
    "df_paid.head()"
   ]
  },
  {
   "cell_type": "code",
   "execution_count": null,
   "metadata": {},
   "outputs": [],
   "source": [
    "df_paid.shape"
   ]
  },
  {
   "cell_type": "code",
   "execution_count": null,
   "metadata": {},
   "outputs": [],
   "source": [
    "plt.scatter(df_paid['subject'],df_paid['num_subscribers'])\n",
    "plt.ylabel('Number of subscribers')\n",
    "plt.xlabel('Subject')\n",
    "plt.show()"
   ]
  },
  {
   "cell_type": "code",
   "execution_count": null,
   "metadata": {},
   "outputs": [],
   "source": [
    "max_enrolled_in_paid_courses = df_paid['num_subscribers'].max()\n",
    "max_enrolled_in_paid_courses"
   ]
  },
  {
   "cell_type": "code",
   "execution_count": null,
   "metadata": {},
   "outputs": [],
   "source": [
    "df_paid[df_paid['num_subscribers']==max_enrolled_in_paid_courses]"
   ]
  },
  {
   "cell_type": "markdown",
   "metadata": {},
   "source": [
    "##### There are 3372 paid courses in this dataset. Out of those, the most enrolled paid course, as of analysis, is \"The Web Developer Bootcamp\" where 121584 users have enrolled in this course which has 43 hours of duration with price 200"
   ]
  },
  {
   "cell_type": "markdown",
   "metadata": {},
   "source": [
    "## 4. Which paid courses are minimum enrolled?"
   ]
  },
  {
   "cell_type": "code",
   "execution_count": null,
   "metadata": {},
   "outputs": [],
   "source": [
    "min_enrolled_in_paid_courses = df_paid['num_subscribers'].min()\n",
    "min_enrolled_in_paid_courses"
   ]
  },
  {
   "cell_type": "code",
   "execution_count": null,
   "metadata": {},
   "outputs": [],
   "source": [
    "min_paid_courses = df_paid[df_paid['num_subscribers']==min_enrolled_in_paid_courses]\n",
    "min_paid_courses"
   ]
  },
  {
   "cell_type": "code",
   "execution_count": null,
   "metadata": {},
   "outputs": [],
   "source": [
    "min_paid_courses.shape"
   ]
  },
  {
   "cell_type": "markdown",
   "metadata": {},
   "source": [
    "##### There are 70 paid courses which are minimally enrolled. Here, the number of subscribers are 0 i.e. there are no subscribers for these 70 courses."
   ]
  },
  {
   "cell_type": "markdown",
   "metadata": {},
   "source": [
    "## 5. Which of the free courses are max enrolled?"
   ]
  },
  {
   "cell_type": "code",
   "execution_count": null,
   "metadata": {},
   "outputs": [],
   "source": [
    "features_free = (df_udemy['is_paid'] == 'False') | (df_udemy['is_paid']=='FALSE')\n",
    "df_free = df_udemy[features_free]\n",
    "df_free.head()"
   ]
  },
  {
   "cell_type": "code",
   "execution_count": null,
   "metadata": {},
   "outputs": [],
   "source": [
    "df_free.shape"
   ]
  },
  {
   "cell_type": "code",
   "execution_count": null,
   "metadata": {},
   "outputs": [],
   "source": [
    "plt.scatter(df_free['subject'],df_free['num_subscribers'])\n",
    "plt.ylabel('Number of subscribers')\n",
    "plt.xlabel('Subject')\n",
    "plt.show()"
   ]
  },
  {
   "cell_type": "code",
   "execution_count": null,
   "metadata": {},
   "outputs": [],
   "source": [
    "max_enrolled_in_free_courses = df_free['num_subscribers'].max()\n",
    "max_enrolled_in_free_courses"
   ]
  },
  {
   "cell_type": "code",
   "execution_count": null,
   "metadata": {},
   "outputs": [],
   "source": [
    "df_free[df_free['num_subscribers']==max_enrolled_in_free_courses]"
   ]
  },
  {
   "cell_type": "markdown",
   "metadata": {},
   "source": [
    "##### From the insights, it is clearly seen that the \"Learn HTML5 Programming From Scratch\" is the free course which has the highest number of enrolments of 268923. Also, from the previous insight in 1, it is clear that this course has the highest number of enrollments overall."
   ]
  },
  {
   "cell_type": "markdown",
   "metadata": {},
   "source": [
    "## 6. Which of the free courses are min enrolled?"
   ]
  },
  {
   "cell_type": "code",
   "execution_count": null,
   "metadata": {},
   "outputs": [],
   "source": [
    "min_enrolled_in_free_courses = df_free['num_subscribers'].min()\n",
    "min_enrolled_in_free_courses"
   ]
  },
  {
   "cell_type": "code",
   "execution_count": null,
   "metadata": {},
   "outputs": [],
   "source": [
    "df_free[df_free['num_subscribers']==min_enrolled_in_free_courses]"
   ]
  },
  {
   "cell_type": "markdown",
   "metadata": {},
   "source": [
    "##### From the above insight, it is clear that the \"Learn to Play Tabla - The Indian drums\" is the minimally enrolled course with only one subscriber."
   ]
  },
  {
   "cell_type": "markdown",
   "metadata": {},
   "source": [
    "## 7. Which of the 4 subjects in this dataset has maximum and minimum enrollments?"
   ]
  },
  {
   "cell_type": "code",
   "execution_count": null,
   "metadata": {},
   "outputs": [],
   "source": [
    "df_subjectwise = df_udemy.groupby(['subject'],as_index=False)['num_subscribers'].sum()\n",
    "df_subjectwise = pd.DataFrame(df_subjectwise)\n",
    "df_subjectwise"
   ]
  },
  {
   "cell_type": "code",
   "execution_count": null,
   "metadata": {},
   "outputs": [],
   "source": [
    "plt.bar(df_subjectwise['subject'],df_subjectwise['num_subscribers'])\n",
    "plt.xticks(rotation=90)\n",
    "plt.ylabel('Number of subscribers')\n",
    "plt.xlabel('Subject')\n",
    "plt.show()"
   ]
  },
  {
   "cell_type": "code",
   "execution_count": null,
   "metadata": {},
   "outputs": [],
   "source": [
    "plt.plot(df_subjectwise['subject'],df_subjectwise['num_subscribers'])\n",
    "plt.xticks(rotation=90)\n",
    "plt.ylabel('Number of subscribers - levelwise')\n",
    "plt.xlabel('Subject')\n",
    "plt.show()"
   ]
  },
  {
   "cell_type": "code",
   "execution_count": null,
   "metadata": {},
   "outputs": [],
   "source": [
    "ms1 = df_subjectwise['num_subscribers'].max()\n",
    "ms1"
   ]
  },
  {
   "cell_type": "code",
   "execution_count": null,
   "metadata": {},
   "outputs": [],
   "source": [
    "df_subjectwise[df_subjectwise['num_subscribers']==ms1]"
   ]
  },
  {
   "cell_type": "code",
   "execution_count": null,
   "metadata": {},
   "outputs": [],
   "source": [
    "ms2 = df_subjectwise['num_subscribers'].min()\n",
    "ms2"
   ]
  },
  {
   "cell_type": "code",
   "execution_count": null,
   "metadata": {},
   "outputs": [],
   "source": [
    "df_subjectwise[df_subjectwise['num_subscribers']==ms2]"
   ]
  },
  {
   "cell_type": "markdown",
   "metadata": {},
   "source": [
    "##### From the above insight, it is clear that \"Web Development\" has the most number of subscribers with total of 7980572 subscribers. And, the minimum enrollments are for the subject \"Musical Instruments\" which has 846689 subscribers"
   ]
  },
  {
   "cell_type": "markdown",
   "metadata": {},
   "source": [
    "## 8. Which subject has the most high and low enrollment in free courses?"
   ]
  },
  {
   "cell_type": "code",
   "execution_count": null,
   "metadata": {},
   "outputs": [],
   "source": [
    "df_subjectwise_paidornot = df_udemy.groupby(['subject','is_paid'],as_index=False)['num_subscribers'].sum()\n",
    "df_subjectwise_paidornot = pd.DataFrame(df_subjectwise_paidornot)\n",
    "df_subjectwise_paidornot"
   ]
  },
  {
   "cell_type": "code",
   "execution_count": null,
   "metadata": {},
   "outputs": [],
   "source": [
    "df_notpaid_subjectwise = df_subjectwise_paidornot[(df_subjectwise_paidornot['is_paid']=='False') | (df_subjectwise_paidornot['is_paid']=='FALSE')]\n",
    "df_notpaid_subjectwise"
   ]
  },
  {
   "cell_type": "code",
   "execution_count": null,
   "metadata": {},
   "outputs": [],
   "source": [
    "plt.bar(df_notpaid_subjectwise['subject'],df_notpaid_subjectwise['num_subscribers'])\n",
    "plt.xticks(rotation=90)\n",
    "plt.ylabel('Number of subscribers for free courses - subjectwise')\n",
    "plt.xlabel('Subject')\n",
    "plt.show()"
   ]
  },
  {
   "cell_type": "code",
   "execution_count": null,
   "metadata": {},
   "outputs": [],
   "source": [
    "msf1 = df_notpaid_subjectwise['num_subscribers'].max()\n",
    "msf1"
   ]
  },
  {
   "cell_type": "code",
   "execution_count": null,
   "metadata": {},
   "outputs": [],
   "source": [
    "df_notpaid_subjectwise[df_notpaid_subjectwise['num_subscribers']==msf1]"
   ]
  },
  {
   "cell_type": "code",
   "execution_count": null,
   "metadata": {},
   "outputs": [],
   "source": [
    "msf2 = df_notpaid_subjectwise['num_subscribers'].min()\n",
    "msf2"
   ]
  },
  {
   "cell_type": "code",
   "execution_count": null,
   "metadata": {},
   "outputs": [],
   "source": [
    "df_notpaid_subjectwise[df_notpaid_subjectwise['num_subscribers']==msf2]"
   ]
  },
  {
   "cell_type": "markdown",
   "metadata": {},
   "source": [
    "##### It is clear from the above analysis that \"Web Development\" subject has most high enrolment for free courses with 2382741 subscribers. And, \"Graphic Design\" subject has low enrolment of free courses with 284821 subscribers."
   ]
  },
  {
   "cell_type": "markdown",
   "metadata": {},
   "source": [
    "## 9. Which subject has most high and low enrolment in paid courses?"
   ]
  },
  {
   "cell_type": "code",
   "execution_count": null,
   "metadata": {},
   "outputs": [],
   "source": [
    "df_paid_subjectwise = df_subjectwise_paidornot[(df_subjectwise_paidornot['is_paid']=='True') | (df_subjectwise_paidornot['is_paid']=='TRUE')]\n",
    "df_paid_subjectwise"
   ]
  },
  {
   "cell_type": "code",
   "execution_count": null,
   "metadata": {},
   "outputs": [],
   "source": [
    "plt.bar(df_paid_subjectwise['subject'],df_paid_subjectwise['num_subscribers'])\n",
    "plt.xticks(rotation=90)\n",
    "plt.ylabel('Number of subscribers for paid courses - subjectwise')\n",
    "plt.xlabel('Subject')\n",
    "plt.show()"
   ]
  },
  {
   "cell_type": "code",
   "execution_count": null,
   "metadata": {},
   "outputs": [],
   "source": [
    "msp1 = df_paid_subjectwise['num_subscribers'].max()\n",
    "msp1"
   ]
  },
  {
   "cell_type": "code",
   "execution_count": null,
   "metadata": {},
   "outputs": [],
   "source": [
    "df_paid_subjectwise[df_paid_subjectwise['num_subscribers']==msp1]"
   ]
  },
  {
   "cell_type": "code",
   "execution_count": null,
   "metadata": {},
   "outputs": [],
   "source": [
    "msp2 = df_paid_subjectwise['num_subscribers'].min()\n",
    "msp2"
   ]
  },
  {
   "cell_type": "code",
   "execution_count": null,
   "metadata": {},
   "outputs": [],
   "source": [
    "df_paid_subjectwise[df_paid_subjectwise['num_subscribers']==msp2]"
   ]
  },
  {
   "cell_type": "markdown",
   "metadata": {},
   "source": [
    "##### From the analytics, it is clear that \"Web Development\" subject has high enrolment of paid courses with 5597831 subscribers. And, the 'Musical Instruments' subject has low number of enrolment for paid courses with 541954 subscribers."
   ]
  },
  {
   "cell_type": "markdown",
   "metadata": {},
   "source": [
    "## 10. Which level courses has maximum users and minimum users subscribed?"
   ]
  },
  {
   "cell_type": "code",
   "execution_count": null,
   "metadata": {},
   "outputs": [],
   "source": [
    "df_levelwise = df_udemy.groupby(['level'],as_index=False)['num_subscribers'].sum()\n",
    "df_levelwise = pd.DataFrame(df_levelwise)"
   ]
  },
  {
   "cell_type": "code",
   "execution_count": null,
   "metadata": {},
   "outputs": [],
   "source": [
    "df_levelwise"
   ]
  },
  {
   "cell_type": "code",
   "execution_count": null,
   "metadata": {},
   "outputs": [],
   "source": [
    "plt.bar(df_levelwise['level'],df_levelwise['num_subscribers'])\n",
    "plt.xticks(rotation=90)\n",
    "plt.ylabel('Number of subscribers - levelwise')\n",
    "plt.xlabel('Level')\n",
    "plt.show()"
   ]
  },
  {
   "cell_type": "code",
   "execution_count": null,
   "metadata": {},
   "outputs": [],
   "source": [
    "plt.plot(df_levelwise['level'],df_levelwise['num_subscribers'])\n",
    "plt.xticks(rotation=90)\n",
    "plt.ylabel('Number of subscribers - levelwise')\n",
    "plt.xlabel('Level')\n",
    "plt.show()"
   ]
  },
  {
   "cell_type": "code",
   "execution_count": null,
   "metadata": {},
   "outputs": [],
   "source": [
    "ml1 = df_levelwise['num_subscribers'].max()"
   ]
  },
  {
   "cell_type": "code",
   "execution_count": null,
   "metadata": {},
   "outputs": [],
   "source": [
    "df_levelwise[df_levelwise['num_subscribers']==ml1]"
   ]
  },
  {
   "cell_type": "code",
   "execution_count": null,
   "metadata": {},
   "outputs": [],
   "source": [
    "ml2 = df_levelwise['num_subscribers'].min()\n",
    "ml2"
   ]
  },
  {
   "cell_type": "code",
   "execution_count": null,
   "metadata": {},
   "outputs": [],
   "source": [
    "df_levelwise[df_levelwise['num_subscribers']==ml2]"
   ]
  },
  {
   "cell_type": "markdown",
   "metadata": {},
   "source": [
    "##### The maximum users have, thus, subscribed to the \"All levels\" category courses with 50196 number of users enrolled."
   ]
  },
  {
   "cell_type": "markdown",
   "metadata": {},
   "source": [
    "###### The \"Expert level\" courses has minimum number of subscribers with 50196 users enrolled."
   ]
  },
  {
   "cell_type": "markdown",
   "metadata": {},
   "source": [
    "## 11. Which course has been created but they have no content?"
   ]
  },
  {
   "cell_type": "code",
   "execution_count": null,
   "metadata": {},
   "outputs": [],
   "source": [
    "min_hrs = df_udemy['content_duration'].min()\n",
    "min_hrs"
   ]
  },
  {
   "cell_type": "code",
   "execution_count": null,
   "metadata": {},
   "outputs": [],
   "source": [
    "min_hr_course = df_udemy[df_udemy['content_duration']==min_hrs]\n",
    "min_hr_course"
   ]
  },
  {
   "cell_type": "markdown",
   "metadata": {},
   "source": [
    "##### The \"Mutual Funds for Investors in Retirement Accounts\" course has been created but has no course content."
   ]
  },
  {
   "cell_type": "markdown",
   "metadata": {},
   "source": [
    "## 12. What does the users choose among paid and free courses?"
   ]
  },
  {
   "cell_type": "code",
   "execution_count": null,
   "metadata": {},
   "outputs": [],
   "source": [
    "plt.barh(df_udemy['is_paid'],df_udemy['num_subscribers'])\n",
    "plt.xticks(rotation=90)\n",
    "plt.xlabel('Number of subscribers')\n",
    "plt.ylabel('Is Paid')\n",
    "plt.show()"
   ]
  },
  {
   "cell_type": "markdown",
   "metadata": {},
   "source": [
    "##### The above insight shows that the False value has the highest number of subscribers where the False represents that the courses are not paid. \n",
    "\n",
    "##### From the above insight, it is clear that the large number of users choose courses that are free more than the paid courses. This is also a good choice since there are large number of free courses which are of high quality and rich content."
   ]
  },
  {
   "cell_type": "markdown",
   "metadata": {},
   "source": [
    "## CONCLUSION:\n",
    "  From the analysis made in this project, it is clear that \"Web development\" sector is on high demand and is the most learned online course on the Udemy platform irrespective of paid or free.\n",
    "  \n",
    "  \n",
    "  It is also found that the users prefer courses that are free and are of normal level(\"All level\") courses among all other categories."
   ]
  },
  {
   "cell_type": "markdown",
   "metadata": {},
   "source": [
    "### Thank you : )"
   ]
  }
 ],
 "metadata": {
  "kernelspec": {
   "display_name": "Python 3",
   "language": "python",
   "name": "python3"
  },
  "language_info": {
   "codemirror_mode": {
    "name": "ipython",
    "version": 3
   },
   "file_extension": ".py",
   "mimetype": "text/x-python",
   "name": "python",
   "nbconvert_exporter": "python",
   "pygments_lexer": "ipython3",
   "version": "3.9.12"
  }
 },
 "nbformat": 4,
 "nbformat_minor": 2
}
